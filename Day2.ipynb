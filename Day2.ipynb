{
 "cells": [
  {
   "cell_type": "code",
   "execution_count": 20,
   "metadata": {},
   "outputs": [],
   "source": [
    "import numpy as np\n",
    "# data = np.loadtxt(\"Day2.txt\",dtype=np.dtype([('dir', str), ('num', int)]))\n",
    "data = np.loadtxt(\"Day2.txt\",dtype=str)\n",
    "direction = data[:,0]\n",
    "distance = data[:,1].astype(int)"
   ]
  },
  {
   "cell_type": "code",
   "execution_count": 22,
   "metadata": {},
   "outputs": [
    {
     "name": "stdout",
     "output_type": "stream",
     "text": [
      "2003\n",
      "872\n",
      "1746616\n"
     ]
    }
   ],
   "source": [
    "# Part 1\n",
    "hpos = np.sum(distance[direction == 'forward'])\n",
    "depth = np.sum(distance[direction == 'down']) - np.sum(distance[direction == 'up'])\n",
    "print(hpos)\n",
    "print(depth)\n",
    "print(hpos*depth)"
   ]
  },
  {
   "cell_type": "code",
   "execution_count": 23,
   "metadata": {},
   "outputs": [
    {
     "name": "stdout",
     "output_type": "stream",
     "text": [
      "2003\n",
      "869681\n",
      "1741971043\n"
     ]
    }
   ],
   "source": [
    "# Part 2\n",
    "hpos = 0\n",
    "aim = 0\n",
    "depth = 0\n",
    "for i in range(len(data)):\n",
    "    d = direction[i]\n",
    "    x = distance[i]\n",
    "    if (d == 'down'):\n",
    "        aim += x\n",
    "    elif (d == 'up'):\n",
    "        aim -= x\n",
    "    elif (d == 'forward'):\n",
    "        hpos += x\n",
    "        depth += aim*x\n",
    "\n",
    "print(hpos)\n",
    "print(depth)\n",
    "print(hpos*depth)"
   ]
  },
  {
   "cell_type": "code",
   "execution_count": null,
   "metadata": {},
   "outputs": [],
   "source": []
  }
 ],
 "metadata": {
  "kernelspec": {
   "display_name": "Python 3",
   "language": "python",
   "name": "python3"
  },
  "language_info": {
   "codemirror_mode": {
    "name": "ipython",
    "version": 3
   },
   "file_extension": ".py",
   "mimetype": "text/x-python",
   "name": "python",
   "nbconvert_exporter": "python",
   "pygments_lexer": "ipython3",
   "version": "3.7.2"
  }
 },
 "nbformat": 4,
 "nbformat_minor": 2
}
