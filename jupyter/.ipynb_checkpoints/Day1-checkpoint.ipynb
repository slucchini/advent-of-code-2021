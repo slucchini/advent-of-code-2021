{
 "cells": [
  {
   "cell_type": "code",
   "execution_count": 1,
   "metadata": {},
   "outputs": [],
   "source": [
    "import numpy as np\n",
    "data = np.loadtxt('../data/Day1.txt')"
   ]
  },
  {
   "cell_type": "code",
   "execution_count": 8,
   "metadata": {},
   "outputs": [
    {
     "name": "stdout",
     "output_type": "stream",
     "text": [
      "[ 174.  180.  179. ... 4615. 4616. 4618.]\n",
      "[4618.  174.  180. ... 4616. 4615. 4616.]\n",
      "[False  True False ... False  True  True]\n",
      "1316\n"
     ]
    }
   ],
   "source": [
    "# Part 1\n",
    "print(data)\n",
    "print(np.roll(data,1))\n",
    "inc = data > np.roll(data,1)\n",
    "print(inc)\n",
    "print(np.sum(inc))"
   ]
  },
  {
   "cell_type": "code",
   "execution_count": 12,
   "metadata": {},
   "outputs": [
    {
     "name": "stdout",
     "output_type": "stream",
     "text": [
      "[  533.   545.   549. ... 13849.  9234.  4618.]\n",
      "[False  True  True ...  True False False]\n",
      "1344\n"
     ]
    }
   ],
   "source": [
    "# Part 2\n",
    "sums = np.array([np.sum(data[i:i+3]) for i in range(len(data))])\n",
    "inc = sums > np.roll(sums,1)\n",
    "print(sums)\n",
    "print(inc)\n",
    "print(np.sum(inc))"
   ]
  },
  {
   "cell_type": "code",
   "execution_count": null,
   "metadata": {},
   "outputs": [],
   "source": []
  }
 ],
 "metadata": {
  "kernelspec": {
   "display_name": "Python 3",
   "language": "python",
   "name": "python3"
  },
  "language_info": {
   "codemirror_mode": {
    "name": "ipython",
    "version": 3
   },
   "file_extension": ".py",
   "mimetype": "text/x-python",
   "name": "python",
   "nbconvert_exporter": "python",
   "pygments_lexer": "ipython3",
   "version": "3.7.2"
  }
 },
 "nbformat": 4,
 "nbformat_minor": 2
}
