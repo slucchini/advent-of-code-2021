{
 "cells": [
  {
   "cell_type": "code",
   "execution_count": 179,
   "metadata": {},
   "outputs": [],
   "source": [
    "import numpy as np\n",
    "from tqdm import tqdm_notebook as tqdm\n",
    "datain = np.loadtxt(\"../data/Day6.txt\",dtype=str)\n",
    "data = np.array(str(datain).split(',')).astype(int)\n",
    "# data = np.array([3,4,3,1,2])"
   ]
  },
  {
   "cell_type": "code",
   "execution_count": 165,
   "metadata": {},
   "outputs": [
    {
     "name": "stdout",
     "output_type": "stream",
     "text": [
      "375482 fish after 80 days.\n"
     ]
    }
   ],
   "source": [
    "# Part 1\n",
    "ndays = 80\n",
    "fish = np.copy(data)\n",
    "for i in range(ndays):\n",
    "    fish -= 1\n",
    "    newfish = len(fish[fish < 0])\n",
    "    # add new fish\n",
    "    fish = np.append(fish,np.ones(newfish)*8)\n",
    "    # reset old fish\n",
    "    fish[fish < 0] = 6\n",
    "\n",
    "print(\"{} fish after {} days.\".format(len(fish),ndays))"
   ]
  },
  {
   "cell_type": "code",
   "execution_count": 181,
   "metadata": {},
   "outputs": [
    {
     "name": "stdout",
     "output_type": "stream",
     "text": [
      "1689540415957 fish after 255 days.\n"
     ]
    }
   ],
   "source": [
    "# Part 2\n",
    "fisharr = np.zeros(9)\n",
    "for d in data:\n",
    "    fisharr[d] += 1\n",
    "fisharr = np.array(fisharr)\n",
    "\n",
    "ndays = 256\n",
    "for d in range(ndays):\n",
    "    pregfish = fisharr[0]\n",
    "    fisharr = np.concatenate((fisharr[1:],[pregfish]))\n",
    "    fisharr[6] += pregfish\n",
    "\n",
    "print(\"{} fish after {} days.\".format(int(np.sum(fisharr)),d+1))"
   ]
  },
  {
   "cell_type": "code",
   "execution_count": null,
   "metadata": {},
   "outputs": [],
   "source": []
  }
 ],
 "metadata": {
  "kernelspec": {
   "display_name": "Python 3",
   "language": "python",
   "name": "python3"
  },
  "language_info": {
   "codemirror_mode": {
    "name": "ipython",
    "version": 3
   },
   "file_extension": ".py",
   "mimetype": "text/x-python",
   "name": "python",
   "nbconvert_exporter": "python",
   "pygments_lexer": "ipython3",
   "version": "3.7.2"
  }
 },
 "nbformat": 4,
 "nbformat_minor": 2
}
