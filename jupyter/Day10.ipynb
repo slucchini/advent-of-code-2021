{
 "cells": [
  {
   "cell_type": "code",
   "execution_count": 25,
   "metadata": {},
   "outputs": [],
   "source": [
    "import numpy as np\n",
    "from collections import deque\n",
    "\n",
    "data = np.loadtxt(\"../data/Day10.txt\",dtype=str)"
   ]
  },
  {
   "cell_type": "markdown",
   "metadata": {},
   "source": [
    "# Part 1"
   ]
  },
  {
   "cell_type": "code",
   "execution_count": 22,
   "metadata": {},
   "outputs": [],
   "source": [
    "def get_type(c):\n",
    "    if ((c == '(') | (c == ')')):\n",
    "        return 'a'\n",
    "    if ((c == '[') | (c == ']')):\n",
    "        return 'b'\n",
    "    if ((c == '{') | (c == '}')):\n",
    "        return 'c'\n",
    "    if ((c == '<') | (c == '>')):\n",
    "        return 'd'\n",
    "\n",
    "def is_open(c):\n",
    "    if ((c == '(') | (c == '[') | (c == '{') | (c == '<')):\n",
    "        return True\n",
    "    else:\n",
    "        return False"
   ]
  },
  {
   "cell_type": "code",
   "execution_count": 33,
   "metadata": {},
   "outputs": [
    {
     "name": "stdout",
     "output_type": "stream",
     "text": [
      "[']' '>' '>' ')' ')' '}' ')' '}' '>' '>' '}' ']' '}' ']' '>' '>' '>' '>'\n",
      " '>' ']' ']' '>' '}' ']' ']' ']' ')' ']' '}' '}' ']' '>' ']' '}' ')' ')'\n",
      " ')' '}' '}' ']' ']' '>' ')' '}' ']' ']' ')']\n"
     ]
    }
   ],
   "source": [
    "groups = deque()\n",
    "errors = []\n",
    "corrupted_lines = []\n",
    "for i,d in enumerate(data):\n",
    "    for c in list(d):\n",
    "        if (is_open(c)):\n",
    "            groups.append(c)\n",
    "        else:\n",
    "            if (get_type(c) == get_type(groups[-1])):\n",
    "                groups.pop()\n",
    "            else:\n",
    "                errors.append(c)\n",
    "                corrupted_lines.append(i)\n",
    "                break\n",
    "\n",
    "corrupted_lines = np.array(corrupted_lines)\n",
    "errors = np.array(errors)\n",
    "print(errors)"
   ]
  },
  {
   "cell_type": "code",
   "execution_count": 31,
   "metadata": {},
   "outputs": [
    {
     "name": "stdout",
     "output_type": "stream",
     "text": [
      "315693\n"
     ]
    }
   ],
   "source": [
    "score = len(errors[errors == ')'])*3 + len(errors[errors == ']'])*57 + \\\n",
    "        len(errors[errors == '}'])*1197 + len(errors[errors == '>'])*25137\n",
    "print(score)"
   ]
  },
  {
   "cell_type": "markdown",
   "metadata": {},
   "source": [
    "# Part 2"
   ]
  },
  {
   "cell_type": "code",
   "execution_count": 37,
   "metadata": {},
   "outputs": [],
   "source": [
    "# discard the corrupted lines\n",
    "mask = np.ones(len(data),dtype=bool)\n",
    "mask[corrupted_lines] = 0\n",
    "data2 = data[mask]"
   ]
  },
  {
   "cell_type": "code",
   "execution_count": 52,
   "metadata": {},
   "outputs": [],
   "source": [
    "def get_score(comp):\n",
    "    score = 0\n",
    "    for c in list(comp):\n",
    "        score *= 5\n",
    "        if (c == '('):\n",
    "            score += 1\n",
    "        elif (c == '['):\n",
    "            score += 2\n",
    "        elif (c == '{'):\n",
    "            score += 3\n",
    "        elif (c == '<'):\n",
    "            score += 4\n",
    "    return score"
   ]
  },
  {
   "cell_type": "code",
   "execution_count": 50,
   "metadata": {},
   "outputs": [],
   "source": [
    "groups = deque()\n",
    "completions = []\n",
    "for i,d in enumerate(data2):\n",
    "    for c in list(d):\n",
    "        if (is_open(c)):\n",
    "            groups.append(c)\n",
    "        else:\n",
    "            if (get_type(c) == get_type(groups[-1])):\n",
    "                groups.pop()\n",
    "            else:\n",
    "                raise Exception(\"Unexpected.\")\n",
    "    completions.append(''.join(list(groups)[::-1]))\n",
    "    groups = deque()"
   ]
  },
  {
   "cell_type": "code",
   "execution_count": 63,
   "metadata": {},
   "outputs": [
    {
     "name": "stdout",
     "output_type": "stream",
     "text": [
      "Middle score:\n",
      "1870887234\n"
     ]
    }
   ],
   "source": [
    "scores = np.array([get_score(c) for c in completions])\n",
    "sscores = np.array(sorted(scores))\n",
    "print(\"Middle score:\")\n",
    "print(sscores[len(sscores)//2])"
   ]
  },
  {
   "cell_type": "code",
   "execution_count": null,
   "metadata": {},
   "outputs": [],
   "source": []
  }
 ],
 "metadata": {
  "kernelspec": {
   "display_name": "Python 3",
   "language": "python",
   "name": "python3"
  },
  "language_info": {
   "codemirror_mode": {
    "name": "ipython",
    "version": 3
   },
   "file_extension": ".py",
   "mimetype": "text/x-python",
   "name": "python",
   "nbconvert_exporter": "python",
   "pygments_lexer": "ipython3",
   "version": "3.7.2"
  }
 },
 "nbformat": 4,
 "nbformat_minor": 2
}
