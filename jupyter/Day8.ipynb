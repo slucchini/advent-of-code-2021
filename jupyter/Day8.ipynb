{
 "cells": [
  {
   "cell_type": "code",
   "execution_count": 209,
   "metadata": {},
   "outputs": [],
   "source": [
    "import numpy as np\n",
    "\n",
    "datain = np.loadtxt(\"../data/Day8.txt\",dtype='str')\n",
    "# data = np.array(str(datain).split('|'))\n",
    "inputs = datain[:,:10]\n",
    "outputs = datain[:,11:]\n",
    "\n",
    "nsegments = [6,2,5,5,4,5,6,3,7,6]\n",
    "# allsegments = ['a','b','c','d','e','f','g']\n",
    "allsegments = ['b','a','c','d','e','g','f']\n",
    "defaultnumbers = ['012456','26','12345','12356','0236','01356','013456','126','0123456','012356']"
   ]
  },
  {
   "cell_type": "markdown",
   "metadata": {},
   "source": [
    "# Part 1"
   ]
  },
  {
   "cell_type": "code",
   "execution_count": 210,
   "metadata": {},
   "outputs": [
    {
     "name": "stdout",
     "output_type": "stream",
     "text": [
      "412\n"
     ]
    }
   ],
   "source": [
    "outlen = np.array([len(o) for o in outputs.flatten()])\n",
    "mask = (outlen == 2) | (outlen == 4) | (outlen == 3) | (outlen == 7)\n",
    "print(\"{}\".format(len(outlen[mask])))"
   ]
  },
  {
   "cell_type": "markdown",
   "metadata": {},
   "source": [
    "# Part 2"
   ]
  },
  {
   "cell_type": "code",
   "execution_count": 211,
   "metadata": {},
   "outputs": [],
   "source": [
    "def print_segment(s):\n",
    "    print(\" \"+s[1]*4+\" \")\n",
    "    print(s[0]+\"    \"+s[2])\n",
    "    print(s[0]+\"    \"+s[2])\n",
    "    print(\" \"+s[3]*4+\" \")\n",
    "    print(s[4]+\"    \"+s[6])\n",
    "    print(s[4]+\"    \"+s[6])\n",
    "    print(\" \"+s[5]*4+\" \")\n",
    "\n",
    "def rewrite_output(output,seglabels):\n",
    "    newout = []\n",
    "    for o in output:\n",
    "        newo = str(o)\n",
    "        for j,sl in enumerate(seglabels):\n",
    "            newo = newo.replace(sl,str(j))\n",
    "        newout.append(''.join(sorted(newo)))\n",
    "    return newout\n",
    "\n",
    "def translate_output(output):\n",
    "    global defaultnumbers\n",
    "    result = []\n",
    "    for o in output:\n",
    "        result.append(defaultnumbers.index(o))\n",
    "    return int(''.join(list(np.array(result).astype(str))))"
   ]
  },
  {
   "cell_type": "code",
   "execution_count": 213,
   "metadata": {},
   "outputs": [],
   "source": [
    "def solve(i):\n",
    "    \n",
    "    seglabels = np.zeros(7,dtype=str)\n",
    "    ilens = np.array([len(ii) for ii in i])\n",
    "    orderedi = ['']*len(i)\n",
    "    orderedi[1] = i[ilens == 2][0]\n",
    "    orderedi[4] = i[ilens == 4][0]\n",
    "    orderedi[7] = i[ilens == 3][0]\n",
    "    orderedi[8] = i[ilens == 7][0]\n",
    "\n",
    "    # determine segment 1 by looking at difference between '7' and '1'\n",
    "    seg1 = orderedi[7]\n",
    "    for char in orderedi[7]:\n",
    "        if (char not in list(orderedi[1])):\n",
    "            seglabels[1] = char\n",
    "\n",
    "    # determine segment 2 by looking at missing pieces from '0','6','9' and comparing with '1'\n",
    "    sixs = i[ilens == 6]\n",
    "    missingsegs = np.zeros(len(sixs),dtype=str)\n",
    "    for j,s in enumerate(sixs):\n",
    "        for seg in allsegments:\n",
    "            if (seg not in list(s)):\n",
    "                missingsegs[j] = seg\n",
    "    for seg in missingsegs:\n",
    "        if (seg in list(orderedi[1])):\n",
    "            seglabels[2] = seg\n",
    "\n",
    "    # segment 1 is what's left in '1'\n",
    "    if (seglabels[2] == orderedi[1][0]):\n",
    "        seglabels[6] = orderedi[1][1]\n",
    "    else:\n",
    "        seglabels[6] = orderedi[1][0]\n",
    "\n",
    "    # segment 0 is the segment that only occurs once in '2','3','5' and also in '4'\n",
    "    fives = i[ilens == 5]\n",
    "    allfives = ''.join(fives)\n",
    "    fivesegs = np.unique(allfives)\n",
    "    singles = []\n",
    "    for seg in fivesegs[0]:\n",
    "        count = len(np.where(np.array(list(allfives)) == seg)[0])\n",
    "        if (count == 1):\n",
    "            singles.append(seg)\n",
    "    for seg in singles:\n",
    "        if (seg in list(orderedi[4])):\n",
    "            seglabels[0] = seg\n",
    "            singles.pop(singles.index(seg))\n",
    "\n",
    "    # segement 4 is the other segment that that only occurs once in '2','3','5'\n",
    "    seglabels[4] = singles[0]\n",
    "\n",
    "    # segment 3 is what's left in '4'\n",
    "    for seg in orderedi[4]:\n",
    "        if (seg not in seglabels):\n",
    "            seglabels[3] = seg\n",
    "            break\n",
    "\n",
    "    # segment 5 is what's left\n",
    "    for seg in allsegments:\n",
    "        if (seg not in seglabels):\n",
    "            seglabels[5] = seg\n",
    "            break\n",
    "    \n",
    "    return seglabels"
   ]
  },
  {
   "cell_type": "code",
   "execution_count": 215,
   "metadata": {},
   "outputs": [
    {
     "name": "stdout",
     "output_type": "stream",
     "text": [
      "Segments are labelled as:\n",
      " 1111 \n",
      "0    2\n",
      "0    2\n",
      " 3333 \n",
      "4    6\n",
      "4    6\n",
      " 5555 \n"
     ]
    }
   ],
   "source": [
    "print(\"Segments are labelled as:\")\n",
    "print_segment('0123456')"
   ]
  },
  {
   "cell_type": "code",
   "execution_count": 214,
   "metadata": {},
   "outputs": [
    {
     "name": "stdout",
     "output_type": "stream",
     "text": [
      "978171\n"
     ]
    }
   ],
   "source": [
    "s = 0\n",
    "for j in range(len(inputs)):\n",
    "    seglabels = solve(inputs[j])\n",
    "    result = translate_output(rewrite_output(outputs[j],seglabels))\n",
    "    s += result\n",
    "\n",
    "print(s)"
   ]
  },
  {
   "cell_type": "code",
   "execution_count": null,
   "metadata": {},
   "outputs": [],
   "source": []
  }
 ],
 "metadata": {
  "kernelspec": {
   "display_name": "Python 3",
   "language": "python",
   "name": "python3"
  },
  "language_info": {
   "codemirror_mode": {
    "name": "ipython",
    "version": 3
   },
   "file_extension": ".py",
   "mimetype": "text/x-python",
   "name": "python",
   "nbconvert_exporter": "python",
   "pygments_lexer": "ipython3",
   "version": "3.7.2"
  }
 },
 "nbformat": 4,
 "nbformat_minor": 2
}
