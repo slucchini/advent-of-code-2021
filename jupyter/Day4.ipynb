{
 "cells": [
  {
   "cell_type": "code",
   "execution_count": 304,
   "metadata": {},
   "outputs": [],
   "source": [
    "import numpy as np\n",
    "\n",
    "called_numbers = np.loadtxt(\"../data/Day4.txt\",dtype=str,max_rows=1)\n",
    "called_numbers = np.array(str(called_numbers).split(',')).astype(int)\n",
    "\n",
    "boards = np.loadtxt(\"../data/Day4.txt\",skiprows=1)\n",
    "boards_left = boards\n",
    "boardsize = bz = 5\n",
    "boards_marked = np.zeros(np.shape(boards))\n",
    "\n",
    "boards_T = np.zeros(np.shape(boards))\n",
    "boards_left_T = boards_T\n",
    "boards_marked_T = np.zeros(np.shape(boards))\n",
    "for i in range(int(len(boards)/bz)):\n",
    "    boards_T[i*bz:(i+1)*bz] = boards[i*bz:(i+1)*bz].T\n",
    "\n",
    "def reset():\n",
    "    global boards_marked,boards_marked_T\n",
    "    global boards_left,boards_left_T\n",
    "    boards_marked = np.zeros(np.shape(boards))\n",
    "    boards_marked_T = np.zeros(np.shape(boards))\n",
    "    boards_left = boards\n",
    "    boards_left_T = boards_T\n",
    "\n",
    "def check_board(i):\n",
    "    global boards_marked,bz\n",
    "    b = boards_marked[i*bz:(i+1)*bz]\n",
    "    check = np.concatenate((np.sum(b,axis=1),np.sum(b,axis=0)))\n",
    "    if np.any(check == 5):\n",
    "        return True\n",
    "    else:\n",
    "        return False"
   ]
  },
  {
   "cell_type": "code",
   "execution_count": 247,
   "metadata": {},
   "outputs": [
    {
     "name": "stdout",
     "output_type": "stream",
     "text": [
      "Bingo on 24 for board #46!\n"
     ]
    }
   ],
   "source": [
    "bingo = False\n",
    "nboards = int(len(boards)/bz)\n",
    "reset()\n",
    "for i,n in enumerate(called_numbers):\n",
    "    \n",
    "    boards_marked[boards == n] = 1\n",
    "    boards_marked_T[boards_T == n] = 1\n",
    "    \n",
    "    for b in [boards_marked,boards_marked_T]:\n",
    "        if np.any(np.sum(b,axis=1) == bz):\n",
    "            bingo = True\n",
    "            board_number = int(np.where((np.sum(b,axis=1) == bz) == True)[0][0] / bz)\n",
    "            print(\"Bingo on {} for board #{}!\".format(i,board_number))\n",
    "    \n",
    "    if bingo:\n",
    "        break"
   ]
  },
  {
   "cell_type": "code",
   "execution_count": 307,
   "metadata": {},
   "outputs": [
    {
     "name": "stdout",
     "output_type": "stream",
     "text": [
      "Bingo on 24 for board #46!\n"
     ]
    }
   ],
   "source": [
    "# alternate method\n",
    "bingo = False\n",
    "nboards = int(len(boards)/bz)\n",
    "board_number = None\n",
    "reset()\n",
    "for i,n in enumerate(called_numbers):\n",
    "    \n",
    "    boards_marked[boards == n] = 1\n",
    "    boards_marked_T[boards_T == n] = 1\n",
    "    \n",
    "    for b in range(nboards):\n",
    "        if (check_board(b)):\n",
    "            bingo = True\n",
    "            board_number = b\n",
    "            print(\"Bingo on {} for board #{}!\".format(i,b))\n",
    "            break\n",
    "    \n",
    "    if bingo:\n",
    "        break"
   ]
  },
  {
   "cell_type": "code",
   "execution_count": 306,
   "metadata": {},
   "outputs": [
    {
     "name": "stdout",
     "output_type": "stream",
     "text": [
      "Score: 69579.0\n"
     ]
    }
   ],
   "source": [
    "winning_board = boards[board_number*boardsize:(board_number+1)*boardsize]\n",
    "winning_marked = boards_marked[board_number*boardsize:(board_number+1)*boardsize]\n",
    "sum_unmarked = np.sum(winning_board[np.invert(winning_marked.astype(bool))])\n",
    "print(\"Score: {}\".format(sum_unmarked*n))"
   ]
  },
  {
   "cell_type": "code",
   "execution_count": 249,
   "metadata": {},
   "outputs": [],
   "source": [
    "# Part 2"
   ]
  },
  {
   "cell_type": "code",
   "execution_count": 313,
   "metadata": {},
   "outputs": [
    {
     "name": "stdout",
     "output_type": "stream",
     "text": [
      "Bingo on 11 for board #59!\n"
     ]
    }
   ],
   "source": [
    "bingo = False\n",
    "nboards = int(len(boards)/bz)\n",
    "board_number = None\n",
    "reset()\n",
    "\n",
    "boards_marked = np.ones(np.shape(boards))\n",
    "boards_marked_T = np.ones(np.shape(boards))\n",
    "\n",
    "for i,n in enumerate(called_numbers[::-1]):\n",
    "    \n",
    "    boards_marked[boards == n] = 0\n",
    "    boards_marked_T[boards_T == n] = 0\n",
    "    \n",
    "    for b in range(nboards):\n",
    "        if (not check_board(b)):\n",
    "            bingo = True\n",
    "            board_number = b\n",
    "            print(\"Bingo on {} for board #{}!\".format(i,b))\n",
    "            break\n",
    "    \n",
    "    if bingo:\n",
    "        break\n",
    "\n",
    "boards_marked[boards == n] = 1\n",
    "boards_marked_T[boards_T == n] = 1"
   ]
  },
  {
   "cell_type": "code",
   "execution_count": 314,
   "metadata": {},
   "outputs": [
    {
     "name": "stdout",
     "output_type": "stream",
     "text": [
      "Score: 14877.0\n"
     ]
    }
   ],
   "source": [
    "winning_board = boards[board_number*boardsize:(board_number+1)*boardsize]\n",
    "winning_marked = boards_marked[board_number*boardsize:(board_number+1)*boardsize]\n",
    "sum_unmarked = np.sum(winning_board[np.invert(winning_marked.astype(bool))])\n",
    "print(\"Score: {}\".format(sum_unmarked*n))"
   ]
  },
  {
   "cell_type": "code",
   "execution_count": null,
   "metadata": {},
   "outputs": [],
   "source": []
  }
 ],
 "metadata": {
  "kernelspec": {
   "display_name": "Python 3",
   "language": "python",
   "name": "python3"
  },
  "language_info": {
   "codemirror_mode": {
    "name": "ipython",
    "version": 3
   },
   "file_extension": ".py",
   "mimetype": "text/x-python",
   "name": "python",
   "nbconvert_exporter": "python",
   "pygments_lexer": "ipython3",
   "version": "3.7.2"
  }
 },
 "nbformat": 4,
 "nbformat_minor": 2
}
