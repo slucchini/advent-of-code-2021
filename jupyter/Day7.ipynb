{
 "cells": [
  {
   "cell_type": "code",
   "execution_count": 37,
   "metadata": {},
   "outputs": [],
   "source": [
    "import numpy as np\n",
    "import math\n",
    "\n",
    "def fact(x):\n",
    "    result = 0\n",
    "    while (x > 0):\n",
    "        result += x\n",
    "        x -= 1\n",
    "    return result\n",
    "\n",
    "datain = np.loadtxt(\"../data/Day7.txt\",dtype='str')\n",
    "data = np.array(str(datain).split(',')).astype(int)\n",
    "# data = np.array([16,1,2,0,4,2,7,1,2,14])"
   ]
  },
  {
   "cell_type": "code",
   "execution_count": 15,
   "metadata": {},
   "outputs": [
    {
     "data": {
      "image/png": "[encoded data removed]",
      "text/plain": [
       "<Figure size 432x288 with 1 Axes>"
      ]
     },
     "metadata": {
      "needs_background": "light"
     },
     "output_type": "display_data"
    }
   ],
   "source": [
    "plt.hist(data,bins=50)\n",
    "plt.show()"
   ]
  },
  {
   "cell_type": "code",
   "execution_count": 29,
   "metadata": {},
   "outputs": [
    {
     "name": "stdout",
     "output_type": "stream",
     "text": [
      "333.0\n",
      "328262\n"
     ]
    }
   ],
   "source": [
    "# Part 1\n",
    "fuel = 0\n",
    "print(np.median(data))\n",
    "for d in data:\n",
    "    fuel += np.abs(d - int(np.median(data)))\n",
    "print(fuel)"
   ]
  },
  {
   "cell_type": "code",
   "execution_count": 51,
   "metadata": {},
   "outputs": [
    {
     "name": "stdout",
     "output_type": "stream",
     "text": [
      "465\n",
      "90040997\n"
     ]
    }
   ],
   "source": [
    "# Part 2\n",
    "fuel = 0\n",
    "mean = int(np.round(np.mean(data)))\n",
    "print(mean)\n",
    "for d in data:\n",
    "    fuel += fact(np.abs(d - mean+1))\n",
    "print(fuel)"
   ]
  },
  {
   "cell_type": "code",
   "execution_count": null,
   "metadata": {},
   "outputs": [],
   "source": []
  }
 ],
 "metadata": {
  "kernelspec": {
   "display_name": "Python 3",
   "language": "python",
   "name": "python3"
  },
  "language_info": {
   "codemirror_mode": {
    "name": "ipython",
    "version": 3
   },
   "file_extension": ".py",
   "mimetype": "text/x-python",
   "name": "python",
   "nbconvert_exporter": "python",
   "pygments_lexer": "ipython3",
   "version": "3.7.2"
  }
 },
 "nbformat": 4,
 "nbformat_minor": 2
}
