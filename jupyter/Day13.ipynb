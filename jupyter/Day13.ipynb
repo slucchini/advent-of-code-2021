{
 "cells": [
  {
   "cell_type": "code",
   "execution_count": 111,
   "metadata": {},
   "outputs": [],
   "source": [
    "import numpy as np\n",
    "datain = np.loadtxt(\"../data/Day13.txt\",dtype=str,delimiter='\\t')\n",
    "instrmask = np.array([d.startswith('fold') for d in datain])\n",
    "\n",
    "def reset():\n",
    "    global dots,datain,instrmask,instructions\n",
    "    \n",
    "    dots = np.array([np.int_(d.split(',')) for d in datain[np.invert(instrmask)]])\n",
    "\n",
    "    instructions = np.array([i[11:].split('=') for i in datain[instrmask]])\n",
    "    instructions[:,0][instructions[:,0] == 'x'] = 0\n",
    "    instructions[:,0][instructions[:,0] == 'y'] = 1\n",
    "    instructions = instructions.astype(int)\n",
    "\n",
    "reset()"
   ]
  },
  {
   "cell_type": "markdown",
   "metadata": {},
   "source": [
    "# Part 1"
   ]
  },
  {
   "cell_type": "code",
   "execution_count": 112,
   "metadata": {},
   "outputs": [],
   "source": [
    "instr = instructions[0]\n",
    "xy = instr[0]\n",
    "axis = instr[1]\n",
    "\n",
    "mask = dots[:,xy] > axis\n",
    "dots[:,xy][mask] = axis - (dots[:,xy][mask] - axis)"
   ]
  },
  {
   "cell_type": "code",
   "execution_count": 113,
   "metadata": {},
   "outputs": [
    {
     "data": {
      "text/plain": [
       "867"
      ]
     },
     "execution_count": 113,
     "metadata": {},
     "output_type": "execute_result"
    }
   ],
   "source": [
    "len(dots)"
   ]
  },
  {
   "cell_type": "code",
   "execution_count": 114,
   "metadata": {},
   "outputs": [
    {
     "data": {
      "text/plain": [
       "735"
      ]
     },
     "execution_count": 114,
     "metadata": {},
     "output_type": "execute_result"
    }
   ],
   "source": [
    "len(np.unique(dots,axis=0))"
   ]
  },
  {
   "cell_type": "markdown",
   "metadata": {},
   "source": [
    "# Part 2"
   ]
  },
  {
   "cell_type": "code",
   "execution_count": 115,
   "metadata": {},
   "outputs": [],
   "source": [
    "reset()\n",
    "for instr in instructions:\n",
    "    xy = instr[0]\n",
    "    axis = instr[1]\n",
    "\n",
    "    mask = dots[:,xy] > axis\n",
    "    dots[:,xy][mask] = axis - (dots[:,xy][mask] - axis)\n",
    "    dots = np.unique(dots,axis=0)"
   ]
  },
  {
   "cell_type": "code",
   "execution_count": 151,
   "metadata": {},
   "outputs": [
    {
     "name": "stdout",
     "output_type": "stream",
     "text": [
      "#..#.####.###..####.#..#..##..#..#.####\n",
      "#..#.#....#..#....#.#.#..#..#.#..#....#\n",
      "#..#.###..#..#...#..##...#..#.#..#...#.\n",
      "#..#.#....###...#...#.#..####.#..#..#..\n",
      "#..#.#....#.#..#....#.#..#..#.#..#.#...\n",
      ".##..#....#..#.####.#..#.#..#..##..####\n"
     ]
    }
   ],
   "source": [
    "xsz = max(dots[:,0])+1\n",
    "ysz = max(dots[:,1])+1\n",
    "screen = np.array(['.']*xsz*ysz).reshape(ysz,xsz)\n",
    "for d in dots:\n",
    "    screen[tuple(d[::-1])] = '#'\n",
    "im = [''.join(s) for s in screen]\n",
    "for i in im:\n",
    "    print(i)"
   ]
  },
  {
   "cell_type": "code",
   "execution_count": null,
   "metadata": {},
   "outputs": [],
   "source": []
  }
 ],
 "metadata": {
  "kernelspec": {
   "display_name": "Python 3",
   "language": "python",
   "name": "python3"
  },
  "language_info": {
   "codemirror_mode": {
    "name": "ipython",
    "version": 3
   },
   "file_extension": ".py",
   "mimetype": "text/x-python",
   "name": "python",
   "nbconvert_exporter": "python",
   "pygments_lexer": "ipython3",
   "version": "3.7.2"
  }
 },
 "nbformat": 4,
 "nbformat_minor": 2
}
