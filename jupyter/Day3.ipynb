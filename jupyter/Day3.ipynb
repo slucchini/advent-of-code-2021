{
 "cells": [
  {
   "cell_type": "code",
   "execution_count": 17,
   "metadata": {},
   "outputs": [],
   "source": [
    "import numpy as np\n",
    "data = np.loadtxt(\"Day3.txt\",dtype=str)\n",
    "datarr = np.array([list(d) for d in data]).astype(int)"
   ]
  },
  {
   "cell_type": "code",
   "execution_count": 23,
   "metadata": {},
   "outputs": [
    {
     "name": "stdout",
     "output_type": "stream",
     "text": [
      "011100101100 = 1836\n",
      "100011010011 = 2259\n",
      "4147524\n"
     ]
    }
   ],
   "source": [
    "# Part 1\n",
    "gamma = ''\n",
    "epsilon = ''\n",
    "for r in range(len(datarr[0])):\n",
    "    m = np.mean(datarr[:,r])\n",
    "    if (m > 0.5):\n",
    "        gamma += '1'\n",
    "        epsilon += '0'\n",
    "    elif (m < 0.5):\n",
    "        gamma += '0'\n",
    "        epsilon += '1'\n",
    "    else:\n",
    "        print(\"Error\")\n",
    "\n",
    "print(gamma,'=',int(gamma,2))\n",
    "print(epsilon,'=',int(epsilon,2))\n",
    "print(int(gamma,2)*int(epsilon,2))"
   ]
  },
  {
   "cell_type": "code",
   "execution_count": 50,
   "metadata": {},
   "outputs": [
    {
     "name": "stdout",
     "output_type": "stream",
     "text": [
      "Part 2\n",
      "O2 done: True\n",
      "CO2 done: True\n",
      "010110010011 = 1427\n",
      "100111000110 = 2502\n",
      "3570354\n"
     ]
    }
   ],
   "source": [
    "# Part 2\n",
    "O2mask = np.ones(len(datarr),dtype=bool)\n",
    "O2val = 0\n",
    "O2done = False\n",
    "CO2mask = np.ones(len(datarr),dtype=bool)\n",
    "CO2val = 0\n",
    "CO2done = False\n",
    "\n",
    "for r in range(len(datarr[0])):\n",
    "    O2m = np.mean(datarr[O2mask][:,r])\n",
    "    CO2m = np.mean(datarr[CO2mask][:,r])\n",
    "    if (O2m >= 0.5):\n",
    "        O2val = 1\n",
    "    else:\n",
    "        O2val = 0\n",
    "    if (CO2m >= 0.5):\n",
    "        CO2val = 0\n",
    "    else:\n",
    "        CO2val = 1\n",
    "    \n",
    "    if (not O2done):\n",
    "        O2mask = O2mask & (datarr[:,r] == O2val)\n",
    "    if (not CO2done):\n",
    "        CO2mask = CO2mask & (datarr[:,r] == CO2val)\n",
    "    \n",
    "    if (len(O2mask[O2mask == True]) == 1):\n",
    "        O2done = True\n",
    "    if (len(CO2mask[CO2mask == True]) == 1):\n",
    "        CO2done = True\n",
    "\n",
    "print('O2 done:',O2done)\n",
    "print('CO2 done:',CO2done)\n",
    "\n",
    "O2result = ''.join([str(i) for i in datarr[O2mask][0]])\n",
    "CO2result = ''.join([str(i) for i in datarr[CO2mask][0]])\n",
    "\n",
    "print(O2result,'=',int(O2result,2))\n",
    "print(CO2result,'=',int(CO2result,2))\n",
    "print(int(O2result,2)*int(CO2result,2))"
   ]
  },
  {
   "cell_type": "code",
   "execution_count": null,
   "metadata": {},
   "outputs": [],
   "source": []
  }
 ],
 "metadata": {
  "kernelspec": {
   "display_name": "Python 3",
   "language": "python",
   "name": "python3"
  },
  "language_info": {
   "codemirror_mode": {
    "name": "ipython",
    "version": 3
   },
   "file_extension": ".py",
   "mimetype": "text/x-python",
   "name": "python",
   "nbconvert_exporter": "python",
   "pygments_lexer": "ipython3",
   "version": "3.7.2"
  }
 },
 "nbformat": 4,
 "nbformat_minor": 2
}
