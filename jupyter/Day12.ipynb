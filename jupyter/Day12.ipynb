{
 "cells": [
  {
   "cell_type": "code",
   "execution_count": 108,
   "metadata": {},
   "outputs": [],
   "source": [
    "import numpy as np\n",
    "\n",
    "datain = np.loadtxt(\"../data/Day12.txt\",dtype=str)\n",
    "data = np.array([s.split('-') for s in datain])"
   ]
  },
  {
   "cell_type": "code",
   "execution_count": 109,
   "metadata": {},
   "outputs": [],
   "source": [
    "# create index\n",
    "index = {}\n",
    "for c in data:\n",
    "    for i,ci in enumerate(c):\n",
    "        if (ci in index):\n",
    "            index[ci].append(c[i-1])\n",
    "        else:\n",
    "            index[ci] = [c[i-1]]"
   ]
  },
  {
   "cell_type": "code",
   "execution_count": 110,
   "metadata": {},
   "outputs": [
    {
     "data": {
      "text/plain": [
       "{'CI': ['hb', 'end', 'tf', 'lr'],\n",
       " 'hb': ['CI', 'qi', 'YK', 'XP'],\n",
       " 'IK': ['lr'],\n",
       " 'lr': ['IK', 'end', 'io', 'XP', 'EU', 'CI'],\n",
       " 'vr': ['tf', 'start', 'XP', 'EU', 'YK'],\n",
       " 'tf': ['vr', 'XP', 'YK', 'CI', 'start', 'EU'],\n",
       " 'end': ['lr', 'CI', 'YK'],\n",
       " 'XP': ['tf', 'lr', 'vr', 'hb', 'io'],\n",
       " 'start': ['vr', 'tf', 'EU'],\n",
       " 'io': ['lr', 'XP'],\n",
       " 'qi': ['hb'],\n",
       " 'YK': ['tf', 'end', 'hb', 'vr'],\n",
       " 'EU': ['lr', 'vr', 'start', 'tf']}"
      ]
     },
     "execution_count": 110,
     "metadata": {},
     "output_type": "execute_result"
    }
   ],
   "source": [
    "index"
   ]
  },
  {
   "cell_type": "markdown",
   "metadata": {},
   "source": [
    "# Part 1"
   ]
  },
  {
   "cell_type": "code",
   "execution_count": 103,
   "metadata": {},
   "outputs": [
    {
     "name": "stdout",
     "output_type": "stream",
     "text": [
      "0\n",
      "4\n",
      "16\n",
      "55\n",
      "144\n",
      "347\n",
      "728\n",
      "1362\n",
      "2284\n",
      "3002\n",
      "3510\n"
     ]
    }
   ],
   "source": [
    "donepaths = []\n",
    "paths = []\n",
    "for r in index['start']:\n",
    "    paths.append(['start',r])\n",
    "currentlen = len(paths[0])\n",
    "while True:\n",
    "    newpaths = []\n",
    "    for p in paths:\n",
    "        p = list(p)\n",
    "        if (len(p) == currentlen):\n",
    "            rooms = index[p[-1]]\n",
    "            for r in rooms:\n",
    "                newpaths.append(p+[r])\n",
    "    currentlen += 1\n",
    "    paths = newpaths\n",
    "    # check for duplicate small rooms\n",
    "    tokeep = np.ones(len(paths),dtype=bool)\n",
    "    for i,p in enumerate(paths):\n",
    "        plower = np.array([pi.lower() for pi in p])\n",
    "        mask = np.where(plower == p)[0]\n",
    "        smallrooms = np.array(p)[mask]\n",
    "        if (len(np.unique(smallrooms)) != len(smallrooms)):\n",
    "            tokeep[i] = False\n",
    "    paths = np.array(paths)[tokeep]\n",
    "    stillactive = np.ones(len(paths),dtype=bool)\n",
    "    for i,p in enumerate(paths):\n",
    "        if (p[-1] == 'end'):\n",
    "            donepaths.append(p)\n",
    "            stillactive[i] = False\n",
    "    paths = list(paths[stillactive])\n",
    "    print(len(donepaths))\n",
    "    if (len(paths) == 0):\n",
    "        break\n",
    "print(\"done\")"
   ]
  },
  {
   "cell_type": "markdown",
   "metadata": {},
   "source": [
    "# Part 2"
   ]
  },
  {
   "cell_type": "code",
   "execution_count": 111,
   "metadata": {},
   "outputs": [
    {
     "name": "stdout",
     "output_type": "stream",
     "text": [
      "0\n",
      "4\n",
      "16\n",
      "74\n",
      "271\n",
      "971\n",
      "2888\n",
      "8119\n",
      "19108\n",
      "40953\n",
      "73512\n",
      "102880\n",
      "122880\n"
     ]
    }
   ],
   "source": [
    "donepaths = []\n",
    "paths = []\n",
    "for r in index['start']:\n",
    "    paths.append(['start',r])\n",
    "currentlen = len(paths[0])\n",
    "while True:\n",
    "    newpaths = []\n",
    "    for p in paths:\n",
    "        p = list(p)\n",
    "        if (len(p) == currentlen):\n",
    "            rooms = index[p[-1]]\n",
    "            for r in rooms:\n",
    "                newpaths.append(p+[r])\n",
    "    currentlen += 1\n",
    "    paths = newpaths\n",
    "    # check for duplicate small rooms\n",
    "    tokeep = np.ones(len(paths),dtype=bool)\n",
    "    for i,p in enumerate(paths):\n",
    "        plower = np.array([pi.lower() for pi in p])\n",
    "        mask = np.where(plower == p)[0]\n",
    "        smallrooms = np.array(p)[mask]\n",
    "        if (len(np.unique(smallrooms))+1 < len(smallrooms)):\n",
    "            tokeep[i] = False\n",
    "        elif ((len(np.where(smallrooms == 'start')[0]) > 1) | (len(np.where(smallrooms == 'end')[0]) > 1)):\n",
    "            tokeep[i] = False\n",
    "    paths = np.array(paths)[tokeep]\n",
    "    stillactive = np.ones(len(paths),dtype=bool)\n",
    "    for i,p in enumerate(paths):\n",
    "        if (p[-1] == 'end'):\n",
    "            donepaths.append(p)\n",
    "            stillactive[i] = False\n",
    "    paths = list(paths[stillactive])\n",
    "    print(len(donepaths))\n",
    "    if (len(paths) == 0):\n",
    "        break\n",
    "print(\"done\")"
   ]
  },
  {
   "cell_type": "code",
   "execution_count": null,
   "metadata": {},
   "outputs": [],
   "source": []
  }
 ],
 "metadata": {
  "kernelspec": {
   "display_name": "Python 3",
   "language": "python",
   "name": "python3"
  },
  "language_info": {
   "codemirror_mode": {
    "name": "ipython",
    "version": 3
   },
   "file_extension": ".py",
   "mimetype": "text/x-python",
   "name": "python",
   "nbconvert_exporter": "python",
   "pygments_lexer": "ipython3",
   "version": "3.7.2"
  }
 },
 "nbformat": 4,
 "nbformat_minor": 2
}
