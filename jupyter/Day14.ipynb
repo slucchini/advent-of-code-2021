{
 "cells": [
  {
   "cell_type": "code",
   "execution_count": 115,
   "metadata": {},
   "outputs": [],
   "source": [
    "import numpy as np\n",
    "from tqdm import tqdm_notebook as tqdm\n",
    "\n",
    "datain = np.loadtxt(\"../data/Day14.txt\",dtype=str,delimiter='\\t')\n",
    "template = np.array(list(datain[0]))\n",
    "rules = {d[:2]:d[-1] for d in datain[1:]}\n",
    "\n",
    "def reset():\n",
    "    global polymer\n",
    "    polymer = template\n",
    "\n",
    "reset()"
   ]
  },
  {
   "cell_type": "markdown",
   "metadata": {},
   "source": [
    "# Part 1"
   ]
  },
  {
   "cell_type": "code",
   "execution_count": 55,
   "metadata": {},
   "outputs": [],
   "source": [
    "reset()\n",
    "nsteps = 10\n",
    "for n in range(nsteps):\n",
    "    newpoly = polymer\n",
    "    for i in range(len(polymer[:-1]))[::-1]:\n",
    "        pair = ''.join(polymer[i:i+2])\n",
    "        if (pair in rules):\n",
    "            newpoly = np.insert(newpoly,i+1,rules[pair])\n",
    "    polymer = newpoly"
   ]
  },
  {
   "cell_type": "code",
   "execution_count": 56,
   "metadata": {},
   "outputs": [
    {
     "name": "stdout",
     "output_type": "stream",
     "text": [
      "{'B': 1749, 'C': 298, 'H': 161, 'N': 865}\n"
     ]
    }
   ],
   "source": [
    "els = np.unique(polymer)\n",
    "counts = {}\n",
    "for e in els:\n",
    "    counts[e] = len(np.where(polymer == e)[0])\n",
    "print(counts)"
   ]
  },
  {
   "cell_type": "code",
   "execution_count": 57,
   "metadata": {},
   "outputs": [
    {
     "data": {
      "text/plain": [
       "1588"
      ]
     },
     "execution_count": 57,
     "metadata": {},
     "output_type": "execute_result"
    }
   ],
   "source": [
    "max(counts.values()) - min(counts.values())"
   ]
  },
  {
   "cell_type": "markdown",
   "metadata": {},
   "source": [
    "# Part 2"
   ]
  },
  {
   "cell_type": "code",
   "execution_count": 126,
   "metadata": {},
   "outputs": [],
   "source": [
    "def count_pairs(poly):\n",
    "    allpairs = np.array([''.join(pair) for pair in np.array(list(zip(poly,poly[1:])))])\n",
    "    paircount = {}\n",
    "    for p in np.unique(allpairs):\n",
    "        paircount[p] = len(np.where(allpairs == p)[0])\n",
    "    return paircount\n",
    "\n",
    "def get_new_poly(paircount):\n",
    "    newpaircount = {}\n",
    "    for p in paircount:\n",
    "        newpairs = inserts[p]\n",
    "        nnew = paircount[p]\n",
    "        for newpair in newpairs:\n",
    "            if (newpair in newpaircount):\n",
    "                newpaircount[newpair] += nnew\n",
    "            else:\n",
    "                newpaircount[newpair] = nnew\n",
    "    return newpaircount\n",
    "\n",
    "def get_char_counts(paircount):\n",
    "    counts = {c:0 for c in np.unique(list(''.join(list(paircount.keys()))))}\n",
    "    for p in paircount:\n",
    "        c1,c2 = p\n",
    "        counts[c1] += paircount[p]\n",
    "        counts[c2] += paircount[p]\n",
    "    for c in counts:\n",
    "        counts[c] = int(np.ceil(counts[c]/2))\n",
    "    return counts"
   ]
  },
  {
   "cell_type": "code",
   "execution_count": 117,
   "metadata": {},
   "outputs": [],
   "source": [
    "inserts = {}\n",
    "for r in rules:\n",
    "    c1,c2 = r\n",
    "    i = rules[r]\n",
    "    inserts[r] = [c1+i,i+c2]"
   ]
  },
  {
   "cell_type": "code",
   "execution_count": 128,
   "metadata": {},
   "outputs": [
    {
     "name": "stdout",
     "output_type": "stream",
     "text": [
      "2797\n"
     ]
    }
   ],
   "source": [
    "# Part 1 Check\n",
    "paircount = count_pairs(template)\n",
    "\n",
    "nsteps = 10\n",
    "for i in range(nsteps):\n",
    "    paircount = get_new_poly(paircount)\n",
    "\n",
    "counts = get_char_counts(paircount)\n",
    "print(max(counts.values()) - min(counts.values()))"
   ]
  },
  {
   "cell_type": "code",
   "execution_count": 129,
   "metadata": {},
   "outputs": [
    {
     "name": "stdout",
     "output_type": "stream",
     "text": [
      "2926813379532\n"
     ]
    }
   ],
   "source": [
    "# Part 2\n",
    "paircount = count_pairs(template)\n",
    "\n",
    "nsteps = 40\n",
    "for i in range(nsteps):\n",
    "    paircount = get_new_poly(paircount)\n",
    "\n",
    "counts = get_char_counts(paircount)\n",
    "print(max(counts.values()) - min(counts.values()))"
   ]
  },
  {
   "cell_type": "code",
   "execution_count": null,
   "metadata": {},
   "outputs": [],
   "source": []
  }
 ],
 "metadata": {
  "kernelspec": {
   "display_name": "Python 3",
   "language": "python",
   "name": "python3"
  },
  "language_info": {
   "codemirror_mode": {
    "name": "ipython",
    "version": 3
   },
   "file_extension": ".py",
   "mimetype": "text/x-python",
   "name": "python",
   "nbconvert_exporter": "python",
   "pygments_lexer": "ipython3",
   "version": "3.7.2"
  }
 },
 "nbformat": 4,
 "nbformat_minor": 2
}
