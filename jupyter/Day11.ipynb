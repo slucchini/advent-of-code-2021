{
 "cells": [
  {
   "cell_type": "code",
   "execution_count": 94,
   "metadata": {},
   "outputs": [],
   "source": [
    "import numpy as np\n",
    "\n",
    "datain = np.loadtxt(\"../data/Day11.txt\",dtype=str)\n",
    "data = np.array([list(r) for r in datain]).astype(int)\n",
    "\n",
    "def reset():\n",
    "    global data\n",
    "    data = np.array([list(r) for r in datain]).astype(int)"
   ]
  },
  {
   "cell_type": "markdown",
   "metadata": {},
   "source": [
    "# Part 1"
   ]
  },
  {
   "cell_type": "code",
   "execution_count": 95,
   "metadata": {},
   "outputs": [],
   "source": [
    "# assumes data is square\n",
    "def flash(data,index):\n",
    "    index = np.array(index)\n",
    "    for i in [-1,0,1]:\n",
    "        for j in [-1,0,1]:\n",
    "            loc = index+[i,j]\n",
    "            if (np.any(loc >= len(data)) | np.any(loc < 0)):\n",
    "                continue\n",
    "            data[tuple(index+[i,j])] += 1\n",
    "    return data"
   ]
  },
  {
   "cell_type": "code",
   "execution_count": 96,
   "metadata": {},
   "outputs": [],
   "source": [
    "nsteps = 100\n",
    "nflashes = 0\n",
    "reset()\n",
    "for n in range(nsteps):\n",
    "    data += 1\n",
    "    flashed = []\n",
    "    newcharged = True\n",
    "    while True:\n",
    "        charged = np.array(np.where(data > 9)).T\n",
    "        if (len(charged) == 0):\n",
    "            break\n",
    "        if (len(flashed) == 0):\n",
    "            alreadyflashed = np.zeros(len(charged),dtype=bool)\n",
    "        else:\n",
    "            alreadyflashed = np.array([(np.array(flashed) == np.array(c)).all(1).any() for c in charged])\n",
    "        newcharged = charged[np.invert(alreadyflashed)]\n",
    "        if (len(newcharged) == 0):\n",
    "            break\n",
    "        for index in newcharged:\n",
    "            data = flash(data,index)\n",
    "            nflashes += 1\n",
    "            flashed.append(index)\n",
    "    data[data > 9] = 0"
   ]
  },
  {
   "cell_type": "code",
   "execution_count": 98,
   "metadata": {},
   "outputs": [
    {
     "name": "stdout",
     "output_type": "stream",
     "text": [
      "1615 flashes in 100 steps\n"
     ]
    }
   ],
   "source": [
    "print(\"{} flashes in {} steps\".format(nflashes,nsteps))"
   ]
  },
  {
   "cell_type": "markdown",
   "metadata": {},
   "source": [
    "# Part 2"
   ]
  },
  {
   "cell_type": "code",
   "execution_count": 111,
   "metadata": {},
   "outputs": [
    {
     "name": "stdout",
     "output_type": "stream",
     "text": [
      "All flash on step 249!\n"
     ]
    }
   ],
   "source": [
    "nsteps = 1000\n",
    "nflashes = 0\n",
    "reset()\n",
    "for n in range(nsteps):\n",
    "    data += 1\n",
    "    flashed = []\n",
    "    newcharged = True\n",
    "    while True:\n",
    "        charged = np.array(np.where(data > 9)).T\n",
    "        if (len(charged) == 0):\n",
    "            break\n",
    "        if (len(flashed) == 0):\n",
    "            alreadyflashed = np.zeros(len(charged),dtype=bool)\n",
    "        else:\n",
    "            alreadyflashed = np.array([(np.array(flashed) == np.array(c)).all(1).any() for c in charged])\n",
    "        newcharged = charged[np.invert(alreadyflashed)]\n",
    "        if (len(newcharged) == 0):\n",
    "            break\n",
    "        for index in newcharged:\n",
    "            data = flash(data,index)\n",
    "            nflashes += 1\n",
    "            flashed.append(index)\n",
    "    data[data > 9] = 0\n",
    "    if np.all(data == 0):\n",
    "        print(\"All flash on step {}!\".format(n+1))\n",
    "        break"
   ]
  },
  {
   "cell_type": "code",
   "execution_count": null,
   "metadata": {},
   "outputs": [],
   "source": []
  }
 ],
 "metadata": {
  "kernelspec": {
   "display_name": "Python 3",
   "language": "python",
   "name": "python3"
  },
  "language_info": {
   "codemirror_mode": {
    "name": "ipython",
    "version": 3
   },
   "file_extension": ".py",
   "mimetype": "text/x-python",
   "name": "python",
   "nbconvert_exporter": "python",
   "pygments_lexer": "ipython3",
   "version": "3.7.2"
  }
 },
 "nbformat": 4,
 "nbformat_minor": 2
}
